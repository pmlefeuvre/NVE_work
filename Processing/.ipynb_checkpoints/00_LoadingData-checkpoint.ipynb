{
 "cells": [
  {
   "cell_type": "markdown",
   "metadata": {},
   "source": [
    "# Reading data from the Load Cell and Conversion in Pressure"
   ]
  },
  {
   "cell_type": "markdown",
   "metadata": {},
   "source": [
    "<i>© Pierre-Marie Lefeuvre, University of Oslo//Norwegian Water Resources and Energy Directorate</i>"
   ]
  },
  {
   "cell_type": "markdown",
   "metadata": {},
   "source": [
    "This Notebook gives an introduction to the R routines processing **load cell data**\n",
    "The \"Processing\" Directory contains all codes that are used to convert load cell frequency into pressure, then save/load the data in different format and finally to process the pressure data for different analysis."
   ]
  },
  {
   "cell_type": "markdown",
   "metadata": {
    "collapsed": true
   },
   "source": [
    "1) The first program to run is \"LoadAllData_subsample_save.R\"/\"LoadAllData_subsample_save_freq.R\".\n",
    "They will read and combine the cleaned frequency data and save the pressure/frequency into files containing a subset of 2 months of the data (in \"Data/Zoo/\"). This splitting facilitates the loading and analysis of the load cell data."
   ]
  },
  {
   "cell_type": "code",
   "execution_count": null,
   "metadata": {
    "collapsed": false
   },
   "outputs": [],
   "source": [
    "source('LoadAllData_subsample_save.R') # To convert into pressure\n",
    "source('LoadAllData_subsample_save_freq.R') # To keep frequency data"
   ]
  },
  {
   "cell_type": "markdown",
   "metadata": {},
   "source": [
    "Loading the data\n",
    "==========="
   ]
  },
  {
   "cell_type": "markdown",
   "metadata": {},
   "source": [
    "2) Now, that the data are saved and processed, they can be loaded into R using:\n",
    "- \"f_Load_ZooSub_month.R\" to load the pressure of the load cell in MPa, and\n",
    "- \"f_Load_ZooSub_month_freq.R\" to load the frequency in Hz.\n",
    "These two functions work similarly. "
   ]
  },
  {
   "cell_type": "code",
   "execution_count": null,
   "metadata": {
    "collapsed": false
   },
   "outputs": [],
   "source": [
    "#First, you have to load them into R:\n",
    "source('f_Load_ZooSub_month.R')\n",
    "#Then you can call the function, the period of interest and the data type as follows:\n",
    "LC.reg.sub <- Load_ZooSub_month(\"2000-01-01\",\"2001-01-01\",\"15min_mean\")"
   ]
  },
  {
   "cell_type": "markdown",
   "metadata": {},
   "source": [
    "This loads the 15min interval pressure data for the period 2000-2001 and saves it into the variable \"LC.reg.sub\"."
   ]
  },
  {
   "cell_type": "markdown",
   "metadata": {},
   "source": [
    "# Plotting"
   ]
  },
  {
   "cell_type": "markdown",
   "metadata": {
    "collapsed": false
   },
   "source": [
    "3) For Plotting, Please first make the directory \"Plots\" inside \"Processing\"."
   ]
  },
  {
   "cell_type": "code",
   "execution_count": null,
   "metadata": {
    "collapsed": false
   },
   "outputs": [],
   "source": [
    "plot(LC.reg.sub[,1])"
   ]
  }
 ],
 "metadata": {
  "kernelspec": {
   "display_name": "R",
   "language": "R",
   "name": "ir"
  },
  "language_info": {
   "codemirror_mode": "r",
   "file_extension": ".r",
   "mimetype": "text/x-r-source",
   "name": "R",
   "pygments_lexer": "r",
   "version": "3.2.1"
  }
 },
 "nbformat": 4,
 "nbformat_minor": 0
}
