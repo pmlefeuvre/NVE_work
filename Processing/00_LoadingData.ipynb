{
 "cells": [
  {
   "cell_type": "markdown",
   "metadata": {},
   "source": [
    "# Reading data from the Load Cell and Conversion in Pressure"
   ]
  },
  {
   "cell_type": "markdown",
   "metadata": {},
   "source": [
    "<i>© Pierre-Marie Lefeuvre, University of Oslo//Norwegian Water Resources and Energy Directorate</i>"
   ]
  },
  {
   "cell_type": "markdown",
   "metadata": {},
   "source": [
    "This Notebook gives an introduction to the R routines processing **load cell data**\n",
    "The \"Processing\" Directory contains all codes that are used to convert load cell frequency into pressure, then save/load the data in different format and finally to process the pressure data for different analysis."
   ]
  },
  {
   "cell_type": "markdown",
   "metadata": {},
   "source": [
    "# 0) Path and libraries"
   ]
  },
  {
   "cell_type": "markdown",
   "metadata": {},
   "source": [
    "To run all codes, the variable *HOME* and *PATH* in *setwd()* must be changed in each program to your own path as shown below:"
   ]
  },
  {
   "cell_type": "code",
   "execution_count": null,
   "metadata": {
    "collapsed": true
   },
   "outputs": [],
   "source": [
    "# Set Working Directory (!!! EDIT TO YOUR PATH !!!)\n",
    "setwd(\"/Users/PiM/Desktop/NVE_work/Processing/\")"
   ]
  },
  {
   "cell_type": "markdown",
   "metadata": {},
   "source": [
    "You can run this bash code in a terminal to rapidly change the PATH (tested on Mac)"
   ]
  },
  {
   "cell_type": "code",
   "execution_count": null,
   "metadata": {
    "collapsed": true
   },
   "outputs": [],
   "source": [
    "for file in Processing/*.R\n",
    "    do \n",
    "    sed -i '' -e 's/.*setwd.*/setwd(PATH)/g' $file\n",
    "    done\n",
    "    # Common error: in the path, any \"/\" must be backslashed (\"\\/\") in order to work in the command \"sed\"\n",
    "    # ex.: PATH=\"\\/Users\\/PiM\\/Desktop\\/NVE_work\\/Processing\""
   ]
  },
  {
   "cell_type": "markdown",
   "metadata": {},
   "source": [
    "Install the following libraries as you need them to run all the R routines:"
   ]
  },
  {
   "cell_type": "code",
   "execution_count": null,
   "metadata": {
    "collapsed": true
   },
   "outputs": [],
   "source": [
    "install.packages(c(\"zoo\",\"chron\",\"hydroTSM\",\"Hmisc\",\"lattice\",\"latticeExtra\",\"signal\",\"MASS\",\"hydroGOF\",\n",
    "                   \"RColorBrewer\",\"lubridate\",\"psych\",\"RCurl\",\"quantmod\",\"classInt\",\"aqfig\",\"plyr\",\"scales\",\"ggplot2\"))"
   ]
  },
  {
   "cell_type": "markdown",
   "metadata": {},
   "source": [
    "# 1) Process Raw data"
   ]
  },
  {
   "cell_type": "markdown",
   "metadata": {
    "collapsed": true
   },
   "source": [
    "The first program to run is \"LoadAllData_subsample_save.R\"/\"LoadAllData_subsample_save_freq.R\".\n",
    "The year(s) to be processed has to be declared in the program line 47 or 57, respectively such as:"
   ]
  },
  {
   "cell_type": "code",
   "execution_count": null,
   "metadata": {
    "collapsed": true
   },
   "outputs": [],
   "source": [
    "# Load the Data and combine them\n",
    "Years       <- seq(2011,2014) # for the period 2011-2014, including 2014\n",
    "# OR\n",
    "# Load the Data and combine them\n",
    "Years       <- 2013           # for one year, i.e. 2013"
   ]
  },
  {
   "cell_type": "markdown",
   "metadata": {},
   "source": [
    "The two programs will then read, combine, and convert the frequency data for the defined period. Run them with:"
   ]
  },
  {
   "cell_type": "code",
   "execution_count": null,
   "metadata": {
    "collapsed": false
   },
   "outputs": [],
   "source": [
    "source('LoadAllData_subsample_save.R')      # To convert into pressure\n",
    "source('LoadAllData_subsample_save_freq.R') # To keep frequency data"
   ]
  },
  {
   "cell_type": "markdown",
   "metadata": {},
   "source": [
    "The output is a regular time series of pressure/frequency and is saved into files of 2 months in the directory \"Data/Zoo/\". \n",
    "This splitting facilitates the loading and analysis of the load cell data."
   ]
  },
  {
   "cell_type": "markdown",
   "metadata": {},
   "source": [
    "# 2) Load the data"
   ]
  },
  {
   "cell_type": "markdown",
   "metadata": {},
   "source": [
    "Now, that the data are saved and processed, they can be loaded into R using:\n",
    "- \"f_Load_ZooSub_month.R\" to load the pressure (MPa) or the frequency (Hz) of the load cell"
   ]
  },
  {
   "cell_type": "code",
   "execution_count": null,
   "metadata": {
    "collapsed": false
   },
   "outputs": [],
   "source": [
    "#First, you have to load it into R:\n",
    "source('f_Load_ZooSub_month.R')\n",
    "#Then you can call the function, the period of interest and the data type as follows:\n",
    "LC.reg.sub <- Load_ZooSub_month(\"2000-01-01\",\"2001-01-01\",\"15min_mean\",freq=FALSE)\n",
    "\n",
    "# Show the first six lines of the data and the load cell/column names\n",
    "head(LC.reg.sub)"
   ]
  },
  {
   "cell_type": "markdown",
   "metadata": {},
   "source": [
    "This loads the **15 min** interval **pressure** data for the period **2000-2001** and saves it into the variable *LC.reg.sub*. **It is important to use the variable *LC.reg.sub* as it is needed to detect whether the data have already been loaded**. \n",
    "If you want to load the raw frequency data instead, replace the flag *freq* to *TRUE* (i.e. *freq=TRUE*)"
   ]
  },
  {
   "cell_type": "markdown",
   "metadata": {},
   "source": [
    "# 3) Plot"
   ]
  },
  {
   "cell_type": "markdown",
   "metadata": {
    "collapsed": false
   },
   "source": [
    "Please first create the directory \"Plots\" inside \"Processing\". If you are already in the PATH, run in R:"
   ]
  },
  {
   "cell_type": "code",
   "execution_count": null,
   "metadata": {
    "collapsed": true
   },
   "outputs": [],
   "source": [
    "dir.create(\"Plots\",showWarnings = FALSE)"
   ]
  },
  {
   "cell_type": "markdown",
   "metadata": {},
   "source": [
    "3a) To plot, You can use the classic plot function in R. As LC.reg.sub is a zoo object, *plot()* will automatically have the time on the x-axis and Pressure on the y-axis. Each time series will have its own panel."
   ]
  },
  {
   "cell_type": "code",
   "execution_count": null,
   "metadata": {
    "collapsed": false
   },
   "outputs": [],
   "source": [
    "plot(LC.reg.sub) # or # plot(LC.reg.sub[,1]) plot only data from the first load cell\n",
    "\n",
    "# If you want all load cells on one single plot, just add:\n",
    "plot(LC.reg.sub,plot.type=\"single\")\n",
    "\n",
    "# To plot points instead of lines (the default for zoo data), add: pch=20 or pch=\".\"\n",
    "plot(LC.reg.sub,plot.type=\"single\",type=\"p\",pch=\".\")\n",
    "# pch gives the type of points to use. Find more types in the R help: ?pch\n",
    "\n",
    "# The color of the time series is defined by the option \"col\"\n",
    "plot(LC.reg.sub,plot.type=\"single\",type=\"p\",pch=\".\",col=c(\"red\",\"orange\",\"yellow\",\"cyan\",\"blue\"))"
   ]
  },
  {
   "cell_type": "markdown",
   "metadata": {},
   "source": [
    "3b) The pressure can also be plotted in a nicer format using the *Plot_LCs_Pressure()* function contained in \"f_Plot_LCs.R\". To access it, run: "
   ]
  },
  {
   "cell_type": "code",
   "execution_count": null,
   "metadata": {
    "collapsed": true
   },
   "outputs": [],
   "source": [
    "source('f_Plot_LCs.R')"
   ]
  },
  {
   "cell_type": "markdown",
   "metadata": {},
   "source": [
    "Now, the function is accessible from the Console. The function load internally the LC data, so you don't need \"f_Load_ZooSub_month.R\". You can run a default example with:"
   ]
  },
  {
   "cell_type": "code",
   "execution_count": null,
   "metadata": {
    "collapsed": true
   },
   "outputs": [],
   "source": [
    "Plot_LCs_Pressure() \n",
    "# that is the same than\n",
    "Plot_LCs_Pressure(sub.start=\"2003-07-01\",sub.end=\"2003-07-15\",LCname=c(\"LC97_1\",\"LC97_2\"),type=\"15min_mean\",f.plot=FALSE)"
   ]
  },
  {
   "cell_type": "markdown",
   "metadata": {},
   "source": [
    "Notes: The load cells (LC) are plotted in pairs on subpanels. The number of panels depends on the number of LCs and allows a maximum of three pairs (or three panels).\n",
    "\n",
    "Input: The start and end of the period is given with the 2 first inputs, then the load cell names, the type of data and whether you want to save the figure:\n",
    "- *sub.start* and *sub.end* accept date and time in different formats, but the advised format is: *2003-07-01 01:00*.\n",
    "- The order in *LCname* defines in which order the pairs of LCs are plotted. \n",
    "- The by-default data interval is 15 min. 1-min and 1-day data can also be used with *min*, *day_med*.\n",
    "- The plot is viewed in R with *f.plot* set *FALSE* and saved in a pdf if set to *TRUE*, but then the figure does not appear in R."
   ]
  },
  {
   "cell_type": "markdown",
   "metadata": {},
   "source": [
    "3d) Another routine gives you an overview of the entire data, but you need to have data for the period 1992-2014.\n",
    "The plot is directly saved in a pdf (Fig.3 in Lefeuvre et al., 2015). "
   ]
  },
  {
   "cell_type": "code",
   "execution_count": null,
   "metadata": {
    "collapsed": true
   },
   "outputs": [],
   "source": [
    "source('Plot_LC_all.R')"
   ]
  },
  {
   "cell_type": "markdown",
   "metadata": {},
   "source": [
    "!!! WARNING: it may take a while. The plotting is much faster if the daily values are loaded instead of the 15 min data (change line 59-60)."
   ]
  }
 ],
 "metadata": {
  "kernelspec": {
   "display_name": "R",
   "language": "R",
   "name": "ir"
  },
  "language_info": {
   "codemirror_mode": "r",
   "file_extension": ".r",
   "mimetype": "text/x-r-source",
   "name": "R",
   "pygments_lexer": "r",
   "version": "3.2.1"
  }
 },
 "nbformat": 4,
 "nbformat_minor": 0
}
